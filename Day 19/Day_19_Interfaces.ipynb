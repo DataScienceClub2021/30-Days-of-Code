{
  "nbformat": 4,
  "nbformat_minor": 0,
  "metadata": {
    "colab": {
      "name": "Day 19-Interfaces.ipynb",
      "provenance": []
    },
    "kernelspec": {
      "name": "python3",
      "display_name": "Python 3"
    },
    "language_info": {
      "name": "python"
    }
  },
  "cells": [
    {
      "cell_type": "code",
      "metadata": {
        "colab": {
          "base_uri": "https://localhost:8080/"
        },
        "id": "8qXzsxAKOfXD",
        "outputId": "d9a4d2ea-5cfb-43f5-837b-720b09226c23"
      },
      "source": [
        "class A:\n",
        "  def sum(self):\n",
        "    pass\n",
        "class B(A):\n",
        "  def sum(self):\n",
        "    print(1+2)\n",
        "class C(A):\n",
        "  def sum(self):\n",
        "    print(3+4)\n",
        "object1 = B()\n",
        "object1.sum()\n",
        "object2 = C()\n",
        "object2.sum()"
      ],
      "execution_count": 8,
      "outputs": [
        {
          "output_type": "stream",
          "text": [
            "3\n",
            "7\n"
          ],
          "name": "stdout"
        }
      ]
    },
    {
      "cell_type": "code",
      "metadata": {
        "id": "_A824mLNPPvZ"
      },
      "source": [
        ""
      ],
      "execution_count": null,
      "outputs": []
    }
  ]
}