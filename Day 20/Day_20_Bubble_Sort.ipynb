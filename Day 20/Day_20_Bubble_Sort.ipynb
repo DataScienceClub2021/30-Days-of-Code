{
  "nbformat": 4,
  "nbformat_minor": 0,
  "metadata": {
    "colab": {
      "name": "Day 20 - Bubble Sort.ipynb",
      "provenance": []
    },
    "kernelspec": {
      "name": "python3",
      "display_name": "Python 3"
    },
    "language_info": {
      "name": "python"
    }
  },
  "cells": [
    {
      "cell_type": "code",
      "metadata": {
        "colab": {
          "base_uri": "https://localhost:8080/"
        },
        "id": "_A824mLNPPvZ",
        "outputId": "de54e926-5cf0-448f-eb17-0b4e2081864d"
      },
      "source": [
        "n = 10 #BS\n",
        "swap_number = 0\n",
        "lst = [0,5,9,1,2,3,6,4,|||8|||,9]\n",
        "for i in range(n-1):\n",
        "  for j in range(n-1-i):\n",
        "    if lst[j] > lst[j+1]:\n",
        "      lst[j],lst[j+1] = lst[j+1],lst[j]\n",
        "      swap_number+=1\n",
        "print(lst)\n",
        "print(swap_number)"
      ],
      "execution_count": 10,
      "outputs": [
        {
          "output_type": "stream",
          "text": [
            "[0, 1, 2, 3, 4, 5, 6, 8, 9, 9]\n",
            "11\n"
          ],
          "name": "stdout"
        }
      ]
    }
  ]
}