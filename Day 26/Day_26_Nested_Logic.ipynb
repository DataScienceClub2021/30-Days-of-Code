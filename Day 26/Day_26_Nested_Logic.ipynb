{
  "nbformat": 4,
  "nbformat_minor": 0,
  "metadata": {
    "colab": {
      "name": "Day 26: Nested Logic.ipynb",
      "provenance": []
    },
    "kernelspec": {
      "name": "python3",
      "display_name": "Python 3"
    },
    "language_info": {
      "name": "python"
    }
  },
  "cells": [
    {
      "cell_type": "code",
      "metadata": {
        "colab": {
          "base_uri": "https://localhost:8080/"
        },
        "id": "mxAZ-C7MrQvv",
        "outputId": "b4c8db5a-c270-485b-cd33-971d188be2e8"
      },
      "source": [
        "input_map = list(map(int,input().split()))"
      ],
      "execution_count": 5,
      "outputs": [
        {
          "output_type": "stream",
          "text": [
            "1 2 3 4 5 6\n"
          ],
          "name": "stdout"
        }
      ]
    },
    {
      "cell_type": "code",
      "metadata": {
        "colab": {
          "base_uri": "https://localhost:8080/"
        },
        "id": "gvRQwJb6rnn9",
        "outputId": "7448db67-35db-463a-b020-5ba34f18ec0e"
      },
      "source": [
        "number = 73\n",
        "if number > 50 :\n",
        "  if number > 60 :\n",
        "    if number > 70 :\n",
        "      if number > 80:\n",
        "        if number > 90:\n",
        "          if number % 2 == 0:\n",
        "            print(\"Done\")\n",
        "          else : \n",
        "            print(\"NOT Done\")\n",
        "        elif number > 85: \n",
        "          print(\"85\")\n",
        "        else :\n",
        "          print(\"NOT Done \",number)\n",
        "      elif number < 75 : \n",
        "        print(\"75\")"
      ],
      "execution_count": 23,
      "outputs": [
        {
          "output_type": "stream",
          "text": [
            "75\n"
          ],
          "name": "stdout"
        }
      ]
    },
    {
      "cell_type": "code",
      "metadata": {
        "colab": {
          "base_uri": "https://localhost:8080/"
        },
        "id": "0iOSnoZxr_JR",
        "outputId": "8b72d707-30c9-43f5-9191-a69cb1dda527"
      },
      "source": [
        "number = 30\n",
        "if number > 50 :\n",
        "  print(\"Ahmed\")\n",
        "else :\n",
        "  print(\"Done Else2\")\n",
        "if number > 40 :\n",
        "  print(\"Ahmed2\")\n",
        "else : \n",
        "  print(\"Done Else2\")"
      ],
      "execution_count": 24,
      "outputs": [
        {
          "output_type": "stream",
          "text": [
            "Done Else2\n",
            "Done Else2\n"
          ],
          "name": "stdout"
        }
      ]
    },
    {
      "cell_type": "code",
      "metadata": {
        "id": "daN0fBzftkfC"
      },
      "source": [
        ""
      ],
      "execution_count": null,
      "outputs": []
    }
  ]
}