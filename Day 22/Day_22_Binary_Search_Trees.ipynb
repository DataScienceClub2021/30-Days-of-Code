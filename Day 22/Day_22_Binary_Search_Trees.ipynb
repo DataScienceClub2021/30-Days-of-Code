{
  "nbformat": 4,
  "nbformat_minor": 0,
  "metadata": {
    "colab": {
      "name": "Day 22: Binary Search Trees.ipynb",
      "provenance": []
    },
    "kernelspec": {
      "name": "python3",
      "display_name": "Python 3"
    },
    "language_info": {
      "name": "python"
    }
  },
  "cells": [
    {
      "cell_type": "code",
      "metadata": {
        "id": "7cxO-U6meiBF"
      },
      "source": [
        ""
      ],
      "execution_count": null,
      "outputs": []
    },
    {
      "cell_type": "code",
      "metadata": {
        "id": "NwXy-FEfheDP"
      },
      "source": [
        "class BST:\n",
        "  def __init__(self,val=None):\n",
        "    self.left = None\n",
        "    self.right =None \n",
        "    self.val  = val\n",
        "  def insert(self,val):\n",
        "    if not self.val :\n",
        "      self.val = val\n",
        "      return\n",
        "    if self.val == val:\n",
        "      return \n",
        "    if val < self.val:\n",
        "      if self.left:\n",
        "        self.left.insert(val)\n",
        "        return \n",
        "      self.left = BST(val)\n",
        "      return \n",
        "    else :\n",
        "      if self.right:\n",
        "        self.right.insert(val)\n",
        "        return \n",
        "      self.right = BST(val)\n",
        "      return \n",
        "  def get_min(self):\n",
        "    current = self\n",
        "    while current.left is not None:\n",
        "      current = current.left\n",
        "    return current.val\n",
        "  def get_max(self):\n",
        "    current = self\n",
        "    while current.right is not None:\n",
        "      current = current.right\n",
        "    return current.val    \n",
        "    \n",
        "\n",
        "    "
      ],
      "execution_count": 57,
      "outputs": []
    },
    {
      "cell_type": "code",
      "metadata": {
        "id": "tARzzSc6hquG"
      },
      "source": [
        "BST_node = BST()\n",
        "BST_node.insert(10)\n",
        "BST_node.insert(5)\n",
        "BST_node.insert(10)\n",
        "BST_node.insert(20)\n",
        "BST_node.insert(30)\n",
        "BST_node.insert(40)\n",
        "BST_node.insert(50)"
      ],
      "execution_count": 58,
      "outputs": []
    },
    {
      "cell_type": "code",
      "metadata": {
        "colab": {
          "base_uri": "https://localhost:8080/"
        },
        "id": "QA4_1YIljxDW",
        "outputId": "07dba4b0-c1a7-451d-8348-00abacc830ba"
      },
      "source": [
        "BST_node.get_min()"
      ],
      "execution_count": 60,
      "outputs": [
        {
          "output_type": "execute_result",
          "data": {
            "text/plain": [
              "5"
            ]
          },
          "metadata": {
            "tags": []
          },
          "execution_count": 60
        }
      ]
    },
    {
      "cell_type": "code",
      "metadata": {
        "id": "OAob_sEMkHYk"
      },
      "source": [
        ""
      ],
      "execution_count": null,
      "outputs": []
    }
  ]
}