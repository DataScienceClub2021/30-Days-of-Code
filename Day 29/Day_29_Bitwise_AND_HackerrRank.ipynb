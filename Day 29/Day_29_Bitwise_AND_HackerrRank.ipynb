{
  "nbformat": 4,
  "nbformat_minor": 0,
  "metadata": {
    "colab": {
      "name": "Day 29: Bitwise AND HackerrRank.ipynb",
      "provenance": []
    },
    "kernelspec": {
      "name": "python3",
      "display_name": "Python 3"
    },
    "language_info": {
      "name": "python"
    }
  },
  "cells": [
    {
      "cell_type": "code",
      "metadata": {
        "id": "nyGFDwHDp8LB"
      },
      "source": [
        "#!/bin/python3\n",
        "\n",
        "import math\n",
        "import os\n",
        "import random\n",
        "import re\n",
        "import sys\n",
        "\n",
        "#\n",
        "# Complete the 'bitwiseAnd' function below.\n",
        "#\n",
        "# The function is expected to return an INTEGER.\n",
        "# The function accepts following parameters:\n",
        "#  1. INTEGER N\n",
        "#  2. INTEGER K\n",
        "#\n",
        "\n",
        "\n",
        "def bitwiseAnd(N,K):\n",
        "    max = 0\n",
        "    ls = [i for i in range(1,N+1)]\n",
        "    for i in ls:\n",
        "        for j in ls[i:]:\n",
        "            c = i & j\n",
        "            if c > max and c < K:\n",
        "                max = c\n",
        "                if max == K-1:\n",
        "                    return max\n",
        "    return max\n",
        "        \n",
        "                \n",
        "        \n",
        "        \n",
        "\n",
        "if __name__ == '__main__':\n",
        "    fptr = open(os.environ['OUTPUT_PATH'], 'w')\n",
        "\n",
        "    t = int(input().strip())\n",
        "\n",
        "    for t_itr in range(t):\n",
        "        first_multiple_input = input().rstrip().split()\n",
        "\n",
        "        count = int(first_multiple_input[0])\n",
        "\n",
        "        lim = int(first_multiple_input[1])\n",
        "\n",
        "        res = bitwiseAnd(count, lim)\n",
        "\n",
        "        fptr.write(str(res) + '\\n')\n",
        "\n",
        "    fptr.close()\n"
      ],
      "execution_count": null,
      "outputs": []
    }
  ]
}