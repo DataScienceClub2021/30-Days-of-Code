{
  "nbformat": 4,
  "nbformat_minor": 0,
  "metadata": {
    "colab": {
      "name": "Day 18- Stack and Queue.ipynb",
      "provenance": []
    },
    "kernelspec": {
      "name": "python3",
      "display_name": "Python 3"
    },
    "language_info": {
      "name": "python"
    }
  },
  "cells": [
    {
      "cell_type": "code",
      "metadata": {
        "id": "JOdYnd7CMqq9"
      },
      "source": [
        "class stackandqueue:\n",
        "  def __init__(self):\n",
        "    self.queue = []\n",
        "    self.stack = []\n",
        "  def enqueue(self,var):\n",
        "    self.queue.append(var)\n",
        "  def push(self,var):\n",
        "    self.stack.append(var)\n",
        "  def dequeue(self):\n",
        "    return self.queue.pop(0)\n",
        "  def pop(self):\n",
        "    return self.stack.pop()"
      ],
      "execution_count": 23,
      "outputs": []
    },
    {
      "cell_type": "code",
      "metadata": {
        "id": "FgJaswc0O_ug"
      },
      "source": [
        "object1 = stackandqueue()\n",
        "object1.enqueue(20) # FIFO\n",
        "object1.enqueue(40)\n",
        "object1.enqueue(50)\n",
        "object1.enqueue(60)\n",
        "object1.push(10)\n",
        "object1.push(80) #FILO"
      ],
      "execution_count": 25,
      "outputs": []
    },
    {
      "cell_type": "code",
      "metadata": {
        "colab": {
          "base_uri": "https://localhost:8080/"
        },
        "id": "NuNXsl07POSK",
        "outputId": "684dd754-c414-4803-8282-009d87247db2"
      },
      "source": [
        "object1.dequeue()"
      ],
      "execution_count": 26,
      "outputs": [
        {
          "output_type": "execute_result",
          "data": {
            "text/plain": [
              "20"
            ]
          },
          "metadata": {
            "tags": []
          },
          "execution_count": 26
        }
      ]
    },
    {
      "cell_type": "code",
      "metadata": {
        "colab": {
          "base_uri": "https://localhost:8080/"
        },
        "id": "uyfY0qdsPgEJ",
        "outputId": "195cabe6-1e5d-466d-ca8f-8d5b5e73f545"
      },
      "source": [
        "object1.dequeue()"
      ],
      "execution_count": 28,
      "outputs": [
        {
          "output_type": "execute_result",
          "data": {
            "text/plain": [
              "40"
            ]
          },
          "metadata": {
            "tags": []
          },
          "execution_count": 28
        }
      ]
    },
    {
      "cell_type": "code",
      "metadata": {
        "colab": {
          "base_uri": "https://localhost:8080/"
        },
        "id": "0aXqGh6_PUqN",
        "outputId": "7a15b41a-2f8e-422c-d158-e4782164cbc9"
      },
      "source": [
        "object1.pop()"
      ],
      "execution_count": 27,
      "outputs": [
        {
          "output_type": "execute_result",
          "data": {
            "text/plain": [
              "80"
            ]
          },
          "metadata": {
            "tags": []
          },
          "execution_count": 27
        }
      ]
    },
    {
      "cell_type": "code",
      "metadata": {
        "colab": {
          "base_uri": "https://localhost:8080/"
        },
        "id": "KPWF8KcTPX4q",
        "outputId": "bf2031d8-75da-4bf4-b0da-35575a628b97"
      },
      "source": [
        "object1.pop()"
      ],
      "execution_count": 29,
      "outputs": [
        {
          "output_type": "execute_result",
          "data": {
            "text/plain": [
              "10"
            ]
          },
          "metadata": {
            "tags": []
          },
          "execution_count": 29
        }
      ]
    },
    {
      "cell_type": "code",
      "metadata": {
        "id": "e7eODqrwPnwO"
      },
      "source": [
        ""
      ],
      "execution_count": null,
      "outputs": []
    }
  ]
}